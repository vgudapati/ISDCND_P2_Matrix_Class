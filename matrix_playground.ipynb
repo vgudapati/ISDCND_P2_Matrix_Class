{
 "cells": [
  {
   "cell_type": "code",
   "execution_count": 21,
   "metadata": {},
   "outputs": [
    {
     "name": "stdout",
     "output_type": "stream",
     "text": [
      "The autoreload extension is already loaded. To reload it, use:\n",
      "  %reload_ext autoreload\n"
     ]
    }
   ],
   "source": [
    "# Run this cell but don't modify it.\n",
    "\n",
    "%load_ext autoreload\n",
    "%autoreload 2\n",
    "from matrix import Matrix, zeroes, identity"
   ]
  },
  {
   "cell_type": "code",
   "execution_count": 22,
   "metadata": {},
   "outputs": [
    {
     "name": "stdout",
     "output_type": "stream",
     "text": [
      "m1 is\n",
      "1  2 \n",
      "3  4 \n",
      "\n",
      "m2 is\n",
      "2  5 \n",
      "6  1 \n",
      "\n",
      "we've also provided you with a function called zeros\n",
      "here's what happens when you call zeros(4,2)\n",
      "0.0  0.0 \n",
      "0.0  0.0 \n",
      "0.0  0.0 \n",
      "0.0  0.0 \n",
      "\n",
      "we've also provided you with a function called identity\n",
      "here's identity(3)\n",
      "1.0  0.0  0.0 \n",
      "0.0  1.0  0.0 \n",
      "0.0  0.0  1.0 \n",
      "\n",
      "but not everything works yet!\n",
      "for example, matrix addition...\n",
      "run the cell below to see what happens when we try...\n",
      "the determinant is...\n",
      "-2\n",
      "the trace is...\n",
      "5\n",
      "the inverse is...\n",
      "[[-2.0, 1.0], [1.5, -0.5]]\n",
      "the inverse is...\n",
      "[[1.5, -0.5], [2.0555555555555554, -0.7222222222222222]]\n",
      "the transpose is...\n",
      "1  3 \n",
      "2  4 \n",
      "\n",
      "the added matrix is...\n",
      "3  7 \n",
      "9  5 \n",
      "\n",
      "the diff matrix is...\n",
      "-1  -3 \n",
      "-3  3 \n",
      "\n",
      "the negated matrix is...\n",
      "-1  -2 \n",
      "-3  -4 \n",
      "\n",
      "the matrix product is...\n",
      "grid size before:  2 2 2 2\n",
      "2 2 2 2\n",
      "grid size after:  2 2 2 2\n",
      "2 2 2 2\n",
      "14  7 \n",
      "30  19 \n",
      "\n"
     ]
    }
   ],
   "source": [
    "# some functionality already exists... here's a demo\n",
    "\n",
    "m1 = Matrix([\n",
    "    [1, 2],\n",
    "    [3, 4]\n",
    "])\n",
    "\n",
    "m2 = Matrix([\n",
    "    [2, 5],\n",
    "    [6, 1]\n",
    "])\n",
    "\n",
    "m1_x_m2 = Matrix([\n",
    "        [ 13,  -9],\n",
    "        [ 37, -27]])\n",
    "\n",
    "print(\"m1 is\")\n",
    "print(m1)\n",
    "\n",
    "print(\"m2 is\")\n",
    "print(m2)\n",
    "\n",
    "print(\"we've also provided you with a function called zeros\")\n",
    "print(\"here's what happens when you call zeros(4,2)\")\n",
    "print(zeroes(4,2))\n",
    "\n",
    "print(\"we've also provided you with a function called identity\")\n",
    "print(\"here's identity(3)\")\n",
    "print(identity(3))\n",
    "\n",
    "print(\"but not everything works yet!\")\n",
    "print(\"for example, matrix addition...\")\n",
    "print(\"run the cell below to see what happens when we try...\")\n",
    "\n",
    "print(\"the determinant is...\")\n",
    "print(m1.determinant())\n",
    "\n",
    "print(\"the trace is...\")\n",
    "print(m1.trace())\n",
    "\n",
    "print(\"the inverse is...\")\n",
    "print(m1.inverse())\n",
    "\n",
    "\n",
    "print(\"the inverse is...\")\n",
    "print(m1_x_m2.inverse())\n",
    "\n",
    "print(\"the transpose is...\")\n",
    "\n",
    "print(m1.T())\n",
    "\n",
    "print(\"the added matrix is...\")\n",
    "\n",
    "print(m1 + m2)\n",
    "\n",
    "print(\"the diff matrix is...\")\n",
    "\n",
    "print(m1 - m2)\n",
    "\n",
    "print(\"the negated matrix is...\")\n",
    "\n",
    "print(-m1)\n",
    "\n",
    "print(\"the matrix product is...\")\n",
    "\n",
    "print(m1 * m2)"
   ]
  },
  {
   "cell_type": "code",
   "execution_count": 23,
   "metadata": {},
   "outputs": [
    {
     "name": "stdout",
     "output_type": "stream",
     "text": [
      "m1 + m2 is\n",
      "3  7 \n",
      "9  5 \n",
      "\n"
     ]
    }
   ],
   "source": [
    "m1 = Matrix([\n",
    "    [1, 2],\n",
    "    [3, 4]\n",
    "])\n",
    "\n",
    "m2 = Matrix([\n",
    "    [2, 5],\n",
    "    [6, 1]\n",
    "])\n",
    "\n",
    "m3 = m1 + m2\n",
    "print(\"m1 + m2 is\")\n",
    "print(m3)"
   ]
  },
  {
   "cell_type": "code",
   "execution_count": 28,
   "metadata": {},
   "outputs": [],
   "source": [
    "# Try running this code. You should get an assertion error. \n",
    "# You will continue to get assertion errors until all the \n",
    "# methods in matrix.py are correctly implemented.\n",
    "\n",
    "# You can open matrix.py by selecting File > Open... \n",
    "# and then selecting matrix.py\n",
    "\n",
    "import test"
   ]
  },
  {
   "cell_type": "code",
   "execution_count": null,
   "metadata": {
    "collapsed": true
   },
   "outputs": [],
   "source": [
    "# open matrix.py (File > Open...) and start\n",
    "# implementing matrix methods! \n",
    "\n",
    "# when your code passes all the tests you can submit by \n",
    "# pressing the SUBMIT button in the lower right corner \n",
    "# of this page."
   ]
  }
 ],
 "metadata": {
  "kernelspec": {
   "display_name": "Python 3",
   "language": "python",
   "name": "python3"
  },
  "language_info": {
   "codemirror_mode": {
    "name": "ipython",
    "version": 3
   },
   "file_extension": ".py",
   "mimetype": "text/x-python",
   "name": "python",
   "nbconvert_exporter": "python",
   "pygments_lexer": "ipython3",
   "version": "3.6.3"
  }
 },
 "nbformat": 4,
 "nbformat_minor": 2
}
